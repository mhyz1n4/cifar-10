{
 "cells": [
  {
   "cell_type": "code",
   "execution_count": 2,
   "metadata": {},
   "outputs": [
    {
     "name": "stderr",
     "output_type": "stream",
     "text": [
      "Using TensorFlow backend.\n"
     ]
    }
   ],
   "source": [
    "import numpy as np\n",
    "from keras.models import Sequential\n",
    "from keras.layers.convolutional import Convolution2D, MaxPooling2D\n",
    "from keras.layers.core import Activation, Flatten, Dropout, Dense\n",
    "from keras.optimizers import Adam, Adagrad, SGD\n",
    "from keras.utils import np_utils\n",
    "from keras.callbacks import History \n",
    "import pickle\n",
    "import matplotlib.pyplot as plt\n",
    "import os\n",
    "\n",
    "data_path = '/Users/mhy/Desktop/cifar-10-batches-py'\n",
    "os.listdir(data_path)\n",
    "history = History()"
   ]
  },
  {
   "cell_type": "code",
   "execution_count": 3,
   "metadata": {
    "collapsed": true
   },
   "outputs": [],
   "source": [
    "#function that get sepcific data file path\n",
    "def get_file_path(fileName):\n",
    "    return os.path.join(data_path, fileName)\n",
    "\n",
    "#function that load data with pickle\n",
    "def unpickle(file):\n",
    "    with open(file, 'rb') as f:\n",
    "        data = pickle.load(f, encoding = 'bytes')\n",
    "    return data\n",
    "    "
   ]
  },
  {
   "cell_type": "code",
   "execution_count": 4,
   "metadata": {
    "collapsed": true
   },
   "outputs": [],
   "source": [
    "#get and load all batches from the folder and put them into array \"batches\"\n",
    "file = get_file_path(\"data_batch_1\")\n",
    "batch_1 = unpickle(file)\n",
    "file = get_file_path(\"data_batch_2\")\n",
    "batch_2 = unpickle(file)\n",
    "file = get_file_path(\"data_batch_3\")\n",
    "batch_3 = unpickle(file)\n",
    "file = get_file_path(\"data_batch_4\")\n",
    "batch_4 = unpickle(file)\n",
    "file = get_file_path(\"data_batch_5\")\n",
    "batch_5 = unpickle(file)\n",
    "file = get_file_path(\"test_batch\")\n",
    "test_batch = unpickle(file)\n",
    "batches = [batch_1, batch_2, batch_3, batch_4, batch_5]"
   ]
  },
  {
   "cell_type": "code",
   "execution_count": 5,
   "metadata": {
    "collapsed": true
   },
   "outputs": [],
   "source": [
    "#get pixel data from file and put them into numpy matrices\n",
    "def load_batch(batch_name):\n",
    "    image_label = np.array(batch_name[b'labels'])    #get image labels\n",
    "    image_data = np.array(batch_name[b'data'], float)   #get image data\n",
    "    image_matrix = image_data.reshape([-1, 3, 32, 32]) #reshape matrix into 5000 of 3*32*32 matrix\n",
    "    image_matrix = image_matrix.transpose(0, 2, 3, 1)\n",
    "    image_matrix /= 255  #normalize data\n",
    "    return (image_matrix, image_label)"
   ]
  },
  {
   "cell_type": "code",
   "execution_count": 7,
   "metadata": {},
   "outputs": [
    {
     "name": "stdout",
     "output_type": "stream",
     "text": [
      "train x shape:  (50000, 32, 32, 3)  , train y shape:  (50000,)\n",
      "test x shape:  (10000, 32, 32, 3)\n",
      "train y:  (50000, 10) test y:  (10000, 10)\n"
     ]
    }
   ],
   "source": [
    "#load batch_1, train_x is the image data matrix, train_y is image labels\n",
    "train_x = load_batch(batches[0]) [0]\n",
    "train_y = load_batch(batches[0]) [1]\n",
    "\n",
    "#load batch_2 to batch_5 and append to train_x, train_y\n",
    "for i in range(1,5):\n",
    "    (x, y) = load_batch(batches[i])\n",
    "    train_x = np.append(train_x, x, axis = 0)\n",
    "    train_y = np.append(train_y, y, axis = 0)\n",
    "print(\"train x shape: \", train_x.shape, \" , train y shape: \", train_y.shape)\n",
    "\n",
    "#load test_batch\n",
    "test_x = load_batch(test_batch) [0]\n",
    "test_y = load_batch(test_batch) [1]\n",
    "print(\"test x shape: \", test_x.shape)\n",
    "\n",
    "train_Y = np_utils.to_categorical(train_y, 10)\n",
    "test_Y = np_utils.to_categorical(test_y, 10)\n",
    "print(\"train y: \", train_Y.shape, \"test y: \", test_Y.shape)"
   ]
  },
  {
   "cell_type": "code",
   "execution_count": 192,
   "metadata": {},
   "outputs": [
    {
     "name": "stdout",
     "output_type": "stream",
     "text": [
      "_________________________________________________________________\n",
      "Layer (type)                 Output Shape              Param #   \n",
      "=================================================================\n",
      "conv2d_155 (Conv2D)          (None, 32, 32, 32)        896       \n",
      "_________________________________________________________________\n",
      "activation_213 (Activation)  (None, 32, 32, 32)        0         \n",
      "_________________________________________________________________\n",
      "conv2d_156 (Conv2D)          (None, 32, 32, 32)        9248      \n",
      "_________________________________________________________________\n",
      "activation_214 (Activation)  (None, 32, 32, 32)        0         \n",
      "_________________________________________________________________\n",
      "max_pooling2d_97 (MaxPooling (None, 16, 16, 32)        0         \n",
      "_________________________________________________________________\n",
      "dropout_125 (Dropout)        (None, 16, 16, 32)        0         \n",
      "_________________________________________________________________\n",
      "conv2d_157 (Conv2D)          (None, 16, 16, 48)        13872     \n",
      "_________________________________________________________________\n",
      "activation_215 (Activation)  (None, 16, 16, 48)        0         \n",
      "_________________________________________________________________\n",
      "conv2d_158 (Conv2D)          (None, 16, 16, 48)        20784     \n",
      "_________________________________________________________________\n",
      "activation_216 (Activation)  (None, 16, 16, 48)        0         \n",
      "_________________________________________________________________\n",
      "max_pooling2d_98 (MaxPooling (None, 8, 8, 48)          0         \n",
      "_________________________________________________________________\n",
      "dropout_126 (Dropout)        (None, 8, 8, 48)          0         \n",
      "_________________________________________________________________\n",
      "conv2d_159 (Conv2D)          (None, 8, 8, 64)          27712     \n",
      "_________________________________________________________________\n",
      "activation_217 (Activation)  (None, 8, 8, 64)          0         \n",
      "_________________________________________________________________\n",
      "max_pooling2d_99 (MaxPooling (None, 4, 4, 64)          0         \n",
      "_________________________________________________________________\n",
      "dropout_127 (Dropout)        (None, 4, 4, 64)          0         \n",
      "_________________________________________________________________\n",
      "conv2d_160 (Conv2D)          (None, 4, 4, 128)         73856     \n",
      "_________________________________________________________________\n",
      "activation_218 (Activation)  (None, 4, 4, 128)         0         \n",
      "_________________________________________________________________\n",
      "max_pooling2d_100 (MaxPoolin (None, 2, 2, 128)         0         \n",
      "_________________________________________________________________\n",
      "dropout_128 (Dropout)        (None, 2, 2, 128)         0         \n",
      "_________________________________________________________________\n",
      "flatten_18 (Flatten)         (None, 512)               0         \n",
      "_________________________________________________________________\n",
      "dense_57 (Dense)             (None, 512)               262656    \n",
      "_________________________________________________________________\n",
      "activation_219 (Activation)  (None, 512)               0         \n",
      "_________________________________________________________________\n",
      "dropout_129 (Dropout)        (None, 512)               0         \n",
      "_________________________________________________________________\n",
      "dense_58 (Dense)             (None, 128)               65664     \n",
      "_________________________________________________________________\n",
      "activation_220 (Activation)  (None, 128)               0         \n",
      "_________________________________________________________________\n",
      "dropout_130 (Dropout)        (None, 128)               0         \n",
      "_________________________________________________________________\n",
      "dense_59 (Dense)             (None, 10)                1290      \n",
      "_________________________________________________________________\n",
      "activation_221 (Activation)  (None, 10)                0         \n",
      "=================================================================\n",
      "Total params: 475,978\n",
      "Trainable params: 475,978\n",
      "Non-trainable params: 0\n",
      "_________________________________________________________________\n"
     ]
    }
   ],
   "source": [
    "#Define model: 6 convolution layer, 4 maxpooling layer, 6 dropout layer, 3 dence layer, \n",
    "#one flatten layer. The last activation function is \"softmax\", other layer uses \"relu\"\n",
    "model = Sequential()\n",
    "model.add(Convolution2D(32, (3, 3), padding = 'same', input_shape = (32, 32, 3))) #shape to 32*32*32\n",
    "model.add(Activation('relu'))\n",
    "model.add(Convolution2D(32, (3, 3), padding = 'same'))\n",
    "model.add(Activation('relu'))\n",
    "model.add(MaxPooling2D(pool_size = (2,2), data_format=\"channels_last\")) #shape to 16*16*32\n",
    "model.add(Dropout(0.5))\n",
    "model.add(Convolution2D(48, (3, 3), padding = 'same'))                  #shape to 16*16*48\n",
    "model.add(Activation('relu'))\n",
    "model.add(Convolution2D(48, (3, 3), padding = 'same'))\n",
    "model.add(Activation('relu'))\n",
    "model.add(MaxPooling2D(pool_size = (2,2), data_format=\"channels_last\")) #shape to 8*8*48\n",
    "model.add(Dropout(0.5))\n",
    "model.add(Convolution2D(64, (3, 3), padding = 'same'))                  #shape to 8*8*64\n",
    "model.add(Activation('relu'))\n",
    "#model.add(Convolution2D(64, (3, 3), padding = 'same'))\n",
    "#model.add(Activation('relu'))\n",
    "model.add(MaxPooling2D(pool_size = (2,2), data_format=\"channels_last\")) #shape to 4*4*64\n",
    "model.add(Dropout(0.5))\n",
    "model.add(Convolution2D(128, (3, 3), padding = 'same'))                 #shape to 4*4*128\n",
    "model.add(Activation('relu'))\n",
    "#model.add(Convolution2D(128, (3, 3), padding = 'same'))\n",
    "#model.add(Activation('relu'))\n",
    "model.add(MaxPooling2D(pool_size = (2,2), data_format=\"channels_last\")) #shape to 2*2*128\n",
    "model.add(Dropout(0.5))\n",
    "model.add(Flatten())                                                    #resahpe matrix into a vector\n",
    "#model.add(Dense(1024))\n",
    "#model.add(Activation('tanh'))\n",
    "#model.add(Dropout(0.5))\n",
    "model.add(Dense(512))\n",
    "model.add(Activation('relu'))\n",
    "model.add(Dropout(0.5))\n",
    "model.add(Dense(128))\n",
    "model.add(Activation('relu'))\n",
    "model.add(Dropout(0.5))\n",
    "model.add(Dense(10))\n",
    "model.add(Activation('softmax'))\n",
    "model.summary()\n"
   ]
  },
  {
   "cell_type": "code",
   "execution_count": 196,
   "metadata": {
    "collapsed": true
   },
   "outputs": [],
   "source": [
    "#using optimizer Adam with lerning rate 0.0005\n",
    "model.compile(loss='categorical_crossentropy', optimizer = Adam(lr=0.0005), metrics=['accuracy'])"
   ]
  },
  {
   "cell_type": "code",
   "execution_count": 197,
   "metadata": {},
   "outputs": [
    {
     "name": "stdout",
     "output_type": "stream",
     "text": [
      "Train on 50000 samples, validate on 10000 samples\n",
      "Epoch 1/35\n",
      "50000/50000 [==============================] - 332s - loss: 0.9724 - acc: 0.6611 - val_loss: 0.9082 - val_acc: 0.6816\n",
      "Epoch 2/35\n",
      "50000/50000 [==============================] - 321s - loss: 0.9555 - acc: 0.6686 - val_loss: 0.8999 - val_acc: 0.6862\n",
      "Epoch 3/35\n",
      "50000/50000 [==============================] - 431s - loss: 0.9535 - acc: 0.6673 - val_loss: 0.8669 - val_acc: 0.6928\n",
      "Epoch 4/35\n",
      "50000/50000 [==============================] - 326s - loss: 0.9491 - acc: 0.6700 - val_loss: 0.8403 - val_acc: 0.7072\n",
      "Epoch 5/35\n",
      "50000/50000 [==============================] - 325s - loss: 0.9440 - acc: 0.6711 - val_loss: 0.9528 - val_acc: 0.6631\n",
      "Epoch 6/35\n",
      "50000/50000 [==============================] - 344s - loss: 0.9378 - acc: 0.6757 - val_loss: 0.8528 - val_acc: 0.7042\n",
      "Epoch 7/35\n",
      "50000/50000 [==============================] - 330s - loss: 0.9275 - acc: 0.6798 - val_loss: 0.8475 - val_acc: 0.6990\n",
      "Epoch 8/35\n",
      "50000/50000 [==============================] - 324s - loss: 0.9317 - acc: 0.6768 - val_loss: 0.8761 - val_acc: 0.6858\n",
      "Epoch 9/35\n",
      "50000/50000 [==============================] - 328s - loss: 0.9254 - acc: 0.6796 - val_loss: 0.9307 - val_acc: 0.6675\n",
      "Epoch 10/35\n",
      "50000/50000 [==============================] - 333s - loss: 0.9172 - acc: 0.6800 - val_loss: 0.8776 - val_acc: 0.6831\n",
      "Epoch 11/35\n",
      "50000/50000 [==============================] - 324s - loss: 0.9160 - acc: 0.6804 - val_loss: 0.8775 - val_acc: 0.6922\n",
      "Epoch 12/35\n",
      "50000/50000 [==============================] - 323s - loss: 0.9177 - acc: 0.6798 - val_loss: 0.8503 - val_acc: 0.6982\n",
      "Epoch 13/35\n",
      "50000/50000 [==============================] - 732s - loss: 0.9124 - acc: 0.6829 - val_loss: 0.8651 - val_acc: 0.6960\n",
      "Epoch 14/35\n",
      "50000/50000 [==============================] - 325s - loss: 0.9023 - acc: 0.6849 - val_loss: 0.8412 - val_acc: 0.7017\n",
      "Epoch 15/35\n",
      "50000/50000 [==============================] - 356s - loss: 0.9112 - acc: 0.6838 - val_loss: 0.8616 - val_acc: 0.6964\n",
      "Epoch 16/35\n",
      "50000/50000 [==============================] - 348s - loss: 0.9090 - acc: 0.6842 - val_loss: 0.8487 - val_acc: 0.6953\n",
      "Epoch 17/35\n",
      "50000/50000 [==============================] - 324s - loss: 0.9039 - acc: 0.6863 - val_loss: 0.8004 - val_acc: 0.7174\n",
      "Epoch 18/35\n",
      "50000/50000 [==============================] - 324s - loss: 0.8939 - acc: 0.6906 - val_loss: 0.8453 - val_acc: 0.6968\n",
      "Epoch 19/35\n",
      "50000/50000 [==============================] - 343s - loss: 0.8974 - acc: 0.6912 - val_loss: 0.8124 - val_acc: 0.7141\n",
      "Epoch 20/35\n",
      "50000/50000 [==============================] - 324s - loss: 0.8952 - acc: 0.6889 - val_loss: 0.7993 - val_acc: 0.7169\n",
      "Epoch 21/35\n",
      "50000/50000 [==============================] - 407s - loss: 0.8887 - acc: 0.6919 - val_loss: 0.7845 - val_acc: 0.7231\n",
      "Epoch 22/35\n",
      "50000/50000 [==============================] - 324s - loss: 0.8941 - acc: 0.6907 - val_loss: 0.8102 - val_acc: 0.7200\n",
      "Epoch 23/35\n",
      "50000/50000 [==============================] - 11134s - loss: 0.8871 - acc: 0.6939 - val_loss: 0.7971 - val_acc: 0.7187\n",
      "Epoch 24/35\n",
      "50000/50000 [==============================] - 14697s - loss: 0.8883 - acc: 0.6927 - val_loss: 0.7908 - val_acc: 0.7185\n",
      "Epoch 25/35\n",
      "50000/50000 [==============================] - 327s - loss: 0.8784 - acc: 0.6961 - val_loss: 0.8190 - val_acc: 0.7115\n",
      "Epoch 26/35\n",
      "50000/50000 [==============================] - 2297s - loss: 0.8788 - acc: 0.6970 - val_loss: 0.7980 - val_acc: 0.7208\n",
      "Epoch 27/35\n",
      "50000/50000 [==============================] - 331s - loss: 0.8823 - acc: 0.6957 - val_loss: 0.7675 - val_acc: 0.7291\n",
      "Epoch 28/35\n",
      "50000/50000 [==============================] - 337s - loss: 0.8754 - acc: 0.6980 - val_loss: 0.7598 - val_acc: 0.7280\n",
      "Epoch 29/35\n",
      "50000/50000 [==============================] - 338s - loss: 0.8727 - acc: 0.6989 - val_loss: 0.7989 - val_acc: 0.7132\n",
      "Epoch 30/35\n",
      "50000/50000 [==============================] - 375s - loss: 0.8723 - acc: 0.6980 - val_loss: 0.7941 - val_acc: 0.7233\n",
      "Epoch 31/35\n",
      "50000/50000 [==============================] - 333s - loss: 0.8675 - acc: 0.7003 - val_loss: 0.8164 - val_acc: 0.7116\n",
      "Epoch 32/35\n",
      "50000/50000 [==============================] - 328s - loss: 0.8637 - acc: 0.7001 - val_loss: 0.8196 - val_acc: 0.7116\n",
      "Epoch 33/35\n",
      "50000/50000 [==============================] - 333s - loss: 0.8731 - acc: 0.7009 - val_loss: 0.7582 - val_acc: 0.7334\n",
      "Epoch 34/35\n",
      "50000/50000 [==============================] - 335s - loss: 0.8626 - acc: 0.7018 - val_loss: 0.8058 - val_acc: 0.7115\n",
      "Epoch 35/35\n",
      "50000/50000 [==============================] - 461s - loss: 0.8637 - acc: 0.7043 - val_loss: 0.7743 - val_acc: 0.7305\n"
     ]
    }
   ],
   "source": [
    "#train model with batch size 100 and 35 epochs. Validation set is the test data.\n",
    "train = model.fit(train_x, train_Y, batch_size = 100, epochs = 35, verbose = 1, validation_data = (test_x, test_Y), shuffle=True,)"
   ]
  },
  {
   "cell_type": "code",
   "execution_count": 198,
   "metadata": {},
   "outputs": [
    {
     "name": "stdout",
     "output_type": "stream",
     "text": [
      "dict_keys(['val_loss', 'val_acc', 'loss', 'acc'])\n"
     ]
    },
    {
     "data": {
      "image/png": "[encoded data removed]",
      "text/plain": [
       "<matplotlib.figure.Figure at 0x1365cde10>"
      ]
     },
     "metadata": {},
     "output_type": "display_data"
    },
    {
     "data": {
      "image/png": "[encoded data removed]",
      "text/plain": [
       "<matplotlib.figure.Figure at 0x1365cda20>"
      ]
     },
     "metadata": {},
     "output_type": "display_data"
    }
   ],
   "source": [
    "#draw loss graph\n",
    "print(train.history.keys())\n",
    "plt.plot(train.history['acc'])\n",
    "plt.plot(train.history['val_acc'])\n",
    "plt.title('model accuracy')\n",
    "plt.ylabel('accuracy')\n",
    "plt.xlabel('epoch')\n",
    "plt.legend(['train', 'test'], loc='upper left')\n",
    "plt.show()\n",
    "\n",
    "plt.plot(train.history['loss'])\n",
    "plt.plot(train.history['val_loss'])\n",
    "plt.title('model loss')\n",
    "plt.ylabel('loss')\n",
    "plt.xlabel('epoch')\n",
    "plt.legend(['train', 'test'], loc='upper left')\n",
    "plt.show()"
   ]
  },
  {
   "cell_type": "code",
   "execution_count": null,
   "metadata": {
    "collapsed": true
   },
   "outputs": [],
   "source": []
  }
 ],
 "metadata": {
  "kernelspec": {
   "display_name": "Python 3",
   "language": "python",
   "name": "python3"
  },
  "language_info": {
   "codemirror_mode": {
    "name": "ipython",
    "version": 3
   },
   "file_extension": ".py",
   "mimetype": "text/x-python",
   "name": "python",
   "nbconvert_exporter": "python",
   "pygments_lexer": "ipython3",
   "version": "3.6.2"
  }
 },
 "nbformat": 4,
 "nbformat_minor": 2
}
